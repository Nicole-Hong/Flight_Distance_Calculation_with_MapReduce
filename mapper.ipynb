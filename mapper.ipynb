{
 "cells": [
  {
   "cell_type": "markdown",
   "id": "78995a40",
   "metadata": {},
   "source": [
    "# Team Project - Mapper"
   ]
  },
  {
   "cell_type": "markdown",
   "id": "7b5d89d9",
   "metadata": {},
   "source": [
    "### Mapper - Library & File I/O"
   ]
  },
  {
   "cell_type": "code",
   "execution_count": 1,
   "id": "eea53ea1",
   "metadata": {},
   "outputs": [],
   "source": [
    "# JSON library needed for 'record reader'.\n",
    "import json"
   ]
  },
  {
   "cell_type": "code",
   "execution_count": 2,
   "id": "482715e3",
   "metadata": {},
   "outputs": [],
   "source": [
    "# Define File I/O for mapper.\n",
    "finput=open('data/flight_data.txt','r') \n",
    "foutput = open('output files/mapped_flight_data.txt', 'w') "
   ]
  },
  {
   "cell_type": "markdown",
   "id": "b2fba385",
   "metadata": {},
   "source": [
    "### Mapper - Output"
   ]
  },
  {
   "cell_type": "code",
   "execution_count": 3,
   "id": "3bc967f0",
   "metadata": {},
   "outputs": [],
   "source": [
    "def mapperoutput(key,value):\n",
    "    # A line with 2 columns where \\t is a tab-sign and \\n is a new line-sign is built.\n",
    "    dataline=key+\"\\t\"+json.dumps(value)+\"\\n\"\n",
    "    #print(dataline)\n",
    "    foutput.write(dataline)"
   ]
  },
  {
   "cell_type": "markdown",
   "id": "6e7ef8dc",
   "metadata": {},
   "source": [
    "### Mapper - Key-Value Mapper Function"
   ]
  },
  {
   "cell_type": "code",
   "execution_count": 4,
   "id": "b1f28f11",
   "metadata": {},
   "outputs": [],
   "source": [
    "def keyvaluemapper(data):\n",
    "    # The key is the unique ID of the flight\n",
    "    key=data[\"id\"]\n",
    "    \n",
    "    # 'Try/Except' block is used to extract the data from lines having all the desired columns.\n",
    "    try:\n",
    "        value={\"ident\":data[\"ident\"],\"id\":data[\"id\"], \"clock\": data[\"clock\"], \n",
    "               \"lat\": data[\"lat\"], \"lon\": data[\"lon\"]}\n",
    "    except:\n",
    "        pass\n",
    "    \n",
    "    # Only the records of position type are sent to the 'mapper output'.\n",
    "    if data[\"type\"] == \"position\":\n",
    "        mapperoutput(key,value)"
   ]
  },
  {
   "cell_type": "markdown",
   "id": "568de7af",
   "metadata": {},
   "source": [
    "### Mapper - Record Reader"
   ]
  },
  {
   "cell_type": "code",
   "execution_count": 5,
   "id": "39a37fbd",
   "metadata": {},
   "outputs": [],
   "source": [
    "def recordreader(line):\n",
    "    # A json function is used to convert a 'string' to JSON format.\n",
    "    data=json.loads(line)\n",
    "    \n",
    "    # The data is used by the 'key value mapper'.\n",
    "    keyvaluemapper(data)"
   ]
  },
  {
   "cell_type": "markdown",
   "id": "d4293874",
   "metadata": {},
   "source": [
    "### Mapper - Input Splitter"
   ]
  },
  {
   "cell_type": "code",
   "execution_count": 6,
   "id": "85fecc3b",
   "metadata": {},
   "outputs": [],
   "source": [
    "# The 'input splitter' reads every line within the input file.\n",
    "for line in finput:\n",
    "    # Each line is sent to the 'record reader'.\n",
    "    recordreader(line)\n",
    "# Once each line has been read and processed, the file I/O will close.\n",
    "finput.close()\n",
    "foutput.close()"
   ]
  },
  {
   "cell_type": "markdown",
   "id": "f194ef57",
   "metadata": {},
   "source": [
    "### Mapper - Sort Output"
   ]
  },
  {
   "cell_type": "code",
   "execution_count": 7,
   "id": "0d4bcd3d-e057-4233-9a2c-757510df61fc",
   "metadata": {},
   "outputs": [],
   "source": [
    "# The sort command (LINUX) is used to sort rows in alphabetic order.\n",
    "!sort < \"output files\"/mapped_flight_data.txt > \"output files\"/sorted_mapped_flight_data.txt"
   ]
  }
 ],
 "metadata": {
  "kernelspec": {
   "display_name": "Python 3 (ipykernel)",
   "language": "python",
   "name": "python3"
  },
  "language_info": {
   "codemirror_mode": {
    "name": "ipython",
    "version": 3
   },
   "file_extension": ".py",
   "mimetype": "text/x-python",
   "name": "python",
   "nbconvert_exporter": "python",
   "pygments_lexer": "ipython3",
   "version": "3.10.6"
  },
  "vscode": {
   "interpreter": {
    "hash": "ad2bdc8ecc057115af97d19610ffacc2b4e99fae6737bb82f5d7fb13d2f2c186"
   }
  }
 },
 "nbformat": 4,
 "nbformat_minor": 5
}
